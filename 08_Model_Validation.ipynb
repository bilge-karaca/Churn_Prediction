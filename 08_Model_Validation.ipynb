{
 "cells": [
  {
   "cell_type": "markdown",
   "id": "b2b1bd00",
   "metadata": {},
   "source": [
    "# Testing the model "
   ]
  },
  {
   "cell_type": "code",
   "execution_count": null,
   "id": "b6b9b629",
   "metadata": {},
   "outputs": [],
   "source": [
    "import pandas as pd\n",
    "import numpy as np\n",
    "import pickle \n",
    "import matplotlib.pyplot as plt\n",
    "import warnings\n",
    "warnings.filterwarnings(\"ignore\")"
   ]
  },
  {
   "cell_type": "code",
   "execution_count": null,
   "id": "ee9f92d0",
   "metadata": {},
   "outputs": [],
   "source": [
    "# Get the data\n",
    "data_df = pd.read_csv(\"private_dataset.txt\", encoding='unicode_escape', sep=\"\\t\")\n",
    "\n",
    "f = open(\"OM_D1_test_data\", 'rb')\n",
    "dfx = pickle.load(f)\n",
    "f.close()"
   ]
  },
  {
   "cell_type": "code",
   "execution_count": null,
   "id": "f805f453",
   "metadata": {},
   "outputs": [],
   "source": [
    "data_df[\"TransactionDate\"] = pd.to_datetime(data_df[\"TransactionDate\"], format=\"%Y-%m-%d %H:%M:%S\" )"
   ]
  },
  {
   "cell_type": "code",
   "execution_count": null,
   "id": "deae5ffd",
   "metadata": {},
   "outputs": [],
   "source": [
    "# Train data FEATURE period\n",
    "\n",
    "train_data_feature_period_start_date = pd.to_datetime(\"2021-03-01 00:00:00\")\n",
    "train_data_feature_period_end_date = pd.to_datetime(\"2022-06-01 00:00:00\") \n",
    "\n",
    "# --------------------------------------------------------\n",
    "\n",
    "# TEST data FEATURE period\n",
    "\n",
    "test_data_feature_period_start_date = pd.to_datetime(\"2021-09-01 00:00:00\") \n",
    "test_data_feature_period_end_date = pd.to_datetime(\"2022-12-01 00:00:00\")\n",
    "\n",
    "# --------------------------------------------------------\n",
    "\n",
    "\n",
    "data_df = data_df[data_df.TransactionDate < test_data_feature_period_end_date]\n"
   ]
  },
  {
   "cell_type": "code",
   "execution_count": null,
   "id": "b0f5da05",
   "metadata": {},
   "outputs": [],
   "source": [
    "data_df.drop(['ProductID3','Phone', 'Email', 'Email2', 'Gender', 'Payment_Info','tbr'], axis=1,inplace=True) "
   ]
  },
  {
   "cell_type": "code",
   "execution_count": null,
   "id": "8de0500c",
   "metadata": {},
   "outputs": [],
   "source": [
    "bask_data_omni = data_df[['CustomerID', 'TransactionDate', 'Price','Discount_Amount', 'Net_Amount', 'Quantity']]"
   ]
  },
  {
   "cell_type": "code",
   "execution_count": null,
   "id": "3afc8785",
   "metadata": {},
   "outputs": [],
   "source": [
    "bask_data_omni = bask_data_omni.groupby(['CustomerID', 'TransactionDate']).sum()\n",
    "bask_data_omni = bask_data_omni.reset_index()\n",
    "sorted_df_omni = bask_data_omni.sort_values(by=['CustomerID', 'TransactionDate'],ascending=False).dropna()\n",
    "sorted_df_omni.reset_index(inplace=True, drop=True)\n",
    "sorted_df_omni"
   ]
  },
  {
   "cell_type": "code",
   "execution_count": null,
   "id": "2564a785",
   "metadata": {},
   "outputs": [],
   "source": [
    "sorted_df_omni=sorted_df_omni[sorted_df_omni.Price>0]\n",
    "sorted_df_omni"
   ]
  },
  {
   "cell_type": "code",
   "execution_count": null,
   "id": "a6e38024",
   "metadata": {},
   "outputs": [],
   "source": [
    "sorted_df_omni[\"discount_perc\"]= (sorted_df_omni[\"DiscountAmount\"]/sorted_df_omni[\"Price\"])\n",
    "sorted_df_omni.reset_index(drop=True,inplace=True)"
   ]
  },
  {
   "cell_type": "code",
   "execution_count": null,
   "id": "79f1b187",
   "metadata": {},
   "outputs": [],
   "source": [
    "sorted_df_omni[\"days_diff_omni\"] = np.nan\n",
    "sorted_df_omni[\"is_1st_purchase_omni\"] = np.nan\n",
    "sorted_df_omni[\"delta_basket_val\"] = np.nan\n",
    "sorted_df_omni[\"delta_basket_unit\"] = np.nan\n",
    "sorted_df_omni[\"delta_discount_perc\"] = np.nan\n",
    "sorted_df_omni"
   ]
  },
  {
   "cell_type": "code",
   "execution_count": null,
   "id": "15a89c4f",
   "metadata": {},
   "outputs": [],
   "source": [
    "for i in range(len(sorted_df_omni.CustomerID)):\n",
    "    if i != len(sorted_df_omni.CustomerID)-1:\n",
    "        if sorted_df_omni.CustomerID[i] == sorted_df_omni.CustomerID[i+1]:\n",
    "            sorted_df_omni[\"days_diff_omni\"][i] = sorted_df_omni.TransactionDate[i]-sorted_df_omni.TransactionDate[i+1]\n",
    "            sorted_df_omni[\"is_1st_purchase_omni\"][i] = 0 # false\n",
    "\n",
    "\n",
    "        else:\n",
    "            sorted_df_omni[\"days_diff_omni\"][i] = np.nan # 1157 days. a large number for previous purchase == Never before == First purchase\n",
    "            sorted_df_omni[\"is_1st_purchase_omni\"][i] = 1\n",
    "\n",
    "\n",
    "    else:\n",
    "        sorted_df_omni[\"days_diff_omni\"][i]=np.nan\n",
    "        sorted_df_omni[\"is_1st_purchase_omni\"][i] = np.nan\n",
    "\n"
   ]
  },
  {
   "cell_type": "code",
   "execution_count": null,
   "id": "15ee366f",
   "metadata": {},
   "outputs": [],
   "source": [
    "for i in range(len(sorted_df_omni.CustomerID)):\n",
    "    if i != len(sorted_df_omni.CustomerID)-1:\n",
    "        if sorted_df_omni.CustomerID[i] == sorted_df_omni.CustomerID[i+1]:\n",
    "            \n",
    "            sorted_df_omni[\"delta_basket_val\"][i] = sorted_df_omni.NetAmount[i]-sorted_df_omni.NetAmount[i+1]\n",
    "            sorted_df_omni[\"delta_basket_unit\"][i] = sorted_df_omni.Cquantity[i]-sorted_df_omni.Cquantity[i+1]\n",
    "            sorted_df_omni[\"delta_discount_perc\"][i] = sorted_df_omni.discount_perc[i]-sorted_df_omni.discount_perc[i+1]\n",
    "\n",
    "        else:\n",
    "            sorted_df_omni[\"delta_basket_val\"][i] = 0\n",
    "            sorted_df_omni[\"delta_basket_unit\"][i] = 0\n",
    "            sorted_df_omni[\"delta_discount_perc\"][i] = 0\n",
    "\n",
    "    else:\n",
    "        sorted_df_omni[\"delta_basket_val\"][i] = 0\n",
    "        sorted_df_omni[\"delta_basket_unit\"][i] = 0\n",
    "        sorted_df_omni[\"delta_discount_perc\"][i] = 0"
   ]
  },
  {
   "cell_type": "code",
   "execution_count": null,
   "id": "ab6a825b",
   "metadata": {},
   "outputs": [],
   "source": [
    "# convert timedelta to days_diff\n",
    "\n",
    "from datetime import datetime, timedelta\n",
    "sorted_df_omni.days_diff_omni = sorted_df_omni.days_diff_omni.apply(lambda x: x.days if isinstance(x, timedelta) else x)"
   ]
  },
  {
   "cell_type": "code",
   "execution_count": null,
   "id": "3ab8881c",
   "metadata": {},
   "outputs": [],
   "source": [
    "cust_df_omni = sorted_df_omni[sorted_df_omni[\"is_1st_purchase_omni\"]==0].groupby(\"CustomerID\").agg(['mean',\n",
    "                                                                                                    'min',\n",
    "                                                                                                    'max'])\n",
    "\n",
    "cust_df_omni.drop([\"TransactionDate\", \"is_1st_purchase_omni\"],axis=1, inplace=True)\n",
    "\n",
    "D8_final_df = cust_df_omni.merge(dfx, how=\"right\", on=\"CustomerID\")\n",
    "\n",
    "D8_final_df.head(3)"
   ]
  },
  {
   "cell_type": "code",
   "execution_count": null,
   "id": "422b8005",
   "metadata": {},
   "outputs": [],
   "source": [
    "D8_final_df.drop(['index', 'Category3', 'isContactable', 'City','last_coupon_type_used',\n",
    "                         'isShippedToBilled_sum', 'Device', 'num_of_purchases_w_discount'],\n",
    "                 axis=1,\n",
    "                 inplace=True)\n",
    "\n",
    "df = D8_final_df.copy()\n",
    "\n",
    "\n",
    "df[\"Age\"] = df.loc[:,\"Age\"].apply(lambda x: np.where(x<18,np.nan,x))\n",
    "df[\"Age\"] = df.loc[:,\"Age\"].apply(lambda x: np.where(x>100,np.nan,x))\n",
    "\n",
    "df[\"purchase_freq\"].replace(0,np.nan, inplace=True)"
   ]
  },
  {
   "cell_type": "code",
   "execution_count": null,
   "id": "18f871f8",
   "metadata": {},
   "outputs": [],
   "source": [
    "# Outlier Removal\n",
    "\n",
    "colns = df.columns\n",
    "\n",
    "for col in colns:\n",
    "    print(df[col].apply(lambda x: x > df[col].mean() + 6*df[col].std()).sum(),\"outliers, 6 std far from the mean\")\n",
    "    print(df[col].apply(lambda x: x > df[col].mean() + 6*df[col].std()).sum() /df[col].count(),\"of the column\")\n",
    "    print(\"Dropping...\")\n",
    "    df.drop(df[df[col].apply(lambda x: x > df[col].mean() + 6*df[col].std())==True].index, inplace=True)\n",
    "    print(\"Dropped.\")"
   ]
  },
  {
   "cell_type": "code",
   "execution_count": null,
   "id": "93dca048",
   "metadata": {
    "scrolled": true
   },
   "outputs": [],
   "source": [
    "colns =[\"purchase_freq\", \"purchase_period\"]\n",
    "\n",
    "for col in colns:\n",
    "    print(df[col].apply(lambda x: x < df[col].mean() - 6*df[col].std()).sum(),\"outliers, 6 std far from the mean\")\n",
    "    print(df[col].apply(lambda x: x < df[col].mean() - 6*df[col].std()).sum() /df[col].count(),\"of the column\")\n",
    "    print(\"Dropping...\")\n",
    "    df.drop(df[df[col].apply(lambda x: x < df[col].mean() - 6*df[col].std())==True].index, inplace=True)\n",
    "    print(\"Dropped.\")"
   ]
  },
  {
   "cell_type": "code",
   "execution_count": null,
   "id": "9ff6d99f",
   "metadata": {},
   "outputs": [],
   "source": [
    "df.label.value_counts()"
   ]
  },
  {
   "cell_type": "code",
   "execution_count": null,
   "id": "3a13adbb",
   "metadata": {},
   "outputs": [],
   "source": [
    "df.drop([('Price', 'mean'), ('Price', 'min'),('Price', 'max'),'ZPL1'], axis=1, inplace=True)"
   ]
  },
  {
   "cell_type": "markdown",
   "id": "a183b3c5",
   "metadata": {},
   "source": [
    "# Test the Model on Test Dataset"
   ]
  },
  {
   "cell_type": "code",
   "execution_count": null,
   "id": "47afd9f6",
   "metadata": {},
   "outputs": [],
   "source": [
    "from sklearn.model_selection import train_test_split, GridSearchCV, StratifiedKFold\n",
    "from sklearn.pipeline import Pipeline\n",
    "from sklearn.impute import SimpleImputer\n",
    "from sklearn.preprocessing import OneHotEncoder, StandardScaler\n",
    "from sklearn.compose import ColumnTransformer\n",
    "from sklearn.linear_model import LogisticRegression\n",
    "from imblearn.over_sampling import SMOTE, SMOTENC, RandomOverSampler\n",
    "from imblearn.pipeline import Pipeline as pipe_imb\n",
    "from imblearn.over_sampling import SMOTE, SMOTENC, RandomOverSampler\n",
    "from imblearn.under_sampling import RandomUnderSampler\n",
    "from imblearn.metrics import classification_report_imbalanced\n",
    "from imblearn.pipeline import make_pipeline as make_pipeline_imb"
   ]
  },
  {
   "cell_type": "code",
   "execution_count": null,
   "id": "3ab06759",
   "metadata": {},
   "outputs": [],
   "source": [
    "X= df.drop([\"CustomerID\",\"label\"],axis=1)\n",
    "y= df[\"label\"]"
   ]
  },
  {
   "cell_type": "markdown",
   "id": "b8f670a3",
   "metadata": {},
   "source": [
    "## Fit the selected model on whole train dataset"
   ]
  },
  {
   "cell_type": "code",
   "execution_count": null,
   "id": "300c2aff",
   "metadata": {},
   "outputs": [],
   "source": [
    "from imblearn.over_sampling import SMOTE, SMOTENC, RandomOverSampler\n",
    "from imblearn.pipeline import Pipeline as pipe_imb\n",
    "from imblearn.over_sampling import SMOTE, SMOTENC, RandomOverSampler\n",
    "from imblearn.under_sampling import RandomUnderSampler\n",
    "from imblearn.metrics import classification_report_imbalanced\n",
    "from imblearn.pipeline import make_pipeline as make_pipeline_imb"
   ]
  },
  {
   "cell_type": "code",
   "execution_count": null,
   "id": "4d807bd8",
   "metadata": {},
   "outputs": [],
   "source": [
    "import pickle \n",
    "fx = open(\"OM_D8_Train_Data_Clean\", 'rb') \n",
    "df_train_whole = pickle.load(fx)\n",
    "fx.close()"
   ]
  },
  {
   "cell_type": "code",
   "execution_count": null,
   "id": "29b36b58",
   "metadata": {},
   "outputs": [],
   "source": [
    "X_train = df_train_whole.drop([\"CustomerID\",\"label\"],axis=1)\n",
    "y_train = df_train_whole[\"label\"]"
   ]
  },
  {
   "cell_type": "markdown",
   "id": "03db47ff",
   "metadata": {},
   "source": [
    "### XGB"
   ]
  },
  {
   "cell_type": "code",
   "execution_count": null,
   "id": "9246d4d6",
   "metadata": {},
   "outputs": [],
   "source": [
    "num_vars = X_train.columns\n",
    "\"\"\"pipe_cat = Pipeline([\n",
    "    (\"imputer\", SimpleImputer(strategy=\"most_frequent\")),\n",
    "    (\"one_hot\", OneHotEncoder(handle_unknown=\"ignore\"))\n",
    "])\n",
    "\"\"\"\n",
    "pipe_num = Pipeline([\n",
    "    (\"imputer\", SimpleImputer(strategy=\"median\")),\n",
    "    (\"scaler\", StandardScaler())\n",
    "])\n",
    "\n",
    "ct = ColumnTransformer([\n",
    "    #(\"categorical_vars\", pipe_cat, cat_vars),\n",
    "    (\"numeric_vars\", pipe_num, num_vars),\n",
    "    \n",
    "], remainder=\"passthrough\")"
   ]
  },
  {
   "cell_type": "code",
   "execution_count": null,
   "id": "4d3737a4",
   "metadata": {},
   "outputs": [],
   "source": [
    "from sklearn.metrics import f1_score\n",
    "def f1_macro(y_true, y_pred):\n",
    "    return f1_score(y_true, y_pred, average='macro')"
   ]
  },
  {
   "cell_type": "code",
   "execution_count": null,
   "id": "a1816e5d",
   "metadata": {},
   "outputs": [],
   "source": [
    "# XGB\n",
    "\n",
    "from xgboost import XGBClassifier\n",
    "\n",
    "ovsmp_pipe = pipe_imb([('ct'        , ct),\n",
    "                       ('sampler'   , RandomOverSampler(random_state=42,\n",
    "                                                       sampling_strategy=0.6)),\n",
    "                       ('classifier', XGBClassifier(objective='binary:logistic', \n",
    "                                                    eval_metric = f1_macro,\n",
    "                                                    n_estimators=1000, \n",
    "                                                    eta=0.01,\n",
    "                                                    max_depth=2, \n",
    "                                                    subsample=0.9, \n",
    "                                                    min_child_weight=100, \n",
    "                                                    gamma=5, \n",
    "                                                    reg_lambda=1, \n",
    "                                                    alpha=3, \n",
    "                                                    colsample_bytree=0.5, \n",
    "\n",
    "                                                   )\n",
    "                                                   )\n",
    "                            ]\n",
    "                   )\n",
    "\n",
    "ovsmp_pipe.fit(X_train,y_train)"
   ]
  },
  {
   "cell_type": "markdown",
   "id": "f54fb9d7",
   "metadata": {},
   "source": [
    "## Get predictions and f1-score of test dataset"
   ]
  },
  {
   "cell_type": "code",
   "execution_count": null,
   "id": "1198d2c2",
   "metadata": {},
   "outputs": [],
   "source": [
    "y_pred = ovsmp_pipe.predict(X)\n",
    "print(\"Test F1 score:\", f1_macro(y, y_pred))"
   ]
  },
  {
   "cell_type": "code",
   "execution_count": null,
   "id": "1f9f7c81",
   "metadata": {},
   "outputs": [],
   "source": [
    "from sklearn.metrics import accuracy_score,recall_score,roc_auc_score,precision_score\n",
    "print(\"Accuracy:\",accuracy_score(y, y_pred))\n",
    "print(\"AUC:\",roc_auc_score(y, y_pred))\n",
    "print(\"Precision:\",precision_score(y, y_pred))\n",
    "print(\"Recall:\",recall_score(y, y_pred))"
   ]
  },
  {
   "cell_type": "code",
   "execution_count": null,
   "id": "1ec09063",
   "metadata": {},
   "outputs": [],
   "source": [
    "import matplotlib.pyplot as plt\n",
    "from sklearn.metrics import confusion_matrix, ConfusionMatrixDisplay\n",
    "cm = confusion_matrix(y, y_pred, labels=ovsmp_pipe.classes_)\n",
    "disp = ConfusionMatrixDisplay(confusion_matrix=cm,\n",
    "                               display_labels=ovsmp_pipe.classes_)\n",
    "disp.plot()\n",
    "\n",
    "plt.show()"
   ]
  }
 ],
 "metadata": {
  "kernelspec": {
   "display_name": "Python 3 (ipykernel)",
   "language": "python",
   "name": "python3"
  },
  "language_info": {
   "codemirror_mode": {
    "name": "ipython",
    "version": 3
   },
   "file_extension": ".py",
   "mimetype": "text/x-python",
   "name": "python",
   "nbconvert_exporter": "python",
   "pygments_lexer": "ipython3",
   "version": "3.10.5"
  }
 },
 "nbformat": 4,
 "nbformat_minor": 5
}
